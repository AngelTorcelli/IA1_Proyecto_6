{
  "nbformat": 4,
  "nbformat_minor": 0,
  "metadata": {
    "colab": {
      "provenance": []
    },
    "kernelspec": {
      "name": "python3",
      "display_name": "Python 3"
    }
  },
  "cells": [
    {
      "cell_type": "code",
      "source": [
        "!pip install m2cgen\n"
      ],
      "metadata": {
        "colab": {
          "base_uri": "https://localhost:8080/"
        },
        "id": "dwTwY-MiYsNS",
        "outputId": "615661a4-f9bc-4cb1-b8ba-83228dcf34c5"
      },
      "execution_count": null,
      "outputs": [
        {
          "output_type": "stream",
          "name": "stdout",
          "text": [
            "Requirement already satisfied: m2cgen in /usr/local/lib/python3.10/dist-packages (0.10.0)\n",
            "Requirement already satisfied: numpy in /usr/local/lib/python3.10/dist-packages (from m2cgen) (1.26.4)\n"
          ]
        }
      ]
    },
    {
      "cell_type": "code",
      "source": [
        "import m2cgen as m2c\n"
      ],
      "metadata": {
        "id": "R3y2WrF5ZROW"
      },
      "execution_count": null,
      "outputs": []
    },
    {
      "cell_type": "code",
      "metadata": {
        "id": "XjN3spAmbXb5"
      },
      "source": [
        "import os\n",
        "import numpy as np\n",
        "import pandas as pd\n",
        "import matplotlib.pyplot as plt\n",
        "import pickle\n",
        "from sklearn.model_selection import train_test_split\n",
        "from sklearn.linear_model import LogisticRegression\n",
        "from sklearn.feature_extraction.text import CountVectorizer\n",
        "from sklearn.metrics import confusion_matrix,classification_report\n",
        "from sklearn.ensemble import ExtraTreesClassifier"
      ],
      "execution_count": null,
      "outputs": []
    },
    {
      "cell_type": "code",
      "metadata": {
        "id": "Pk5P1JNsbk1A"
      },
      "source": [
        "os.chdir(\"/content/sample_data\")"
      ],
      "execution_count": null,
      "outputs": []
    },
    {
      "cell_type": "code",
      "metadata": {
        "id": "6EhTFcTybzCA"
      },
      "source": [
        "def file2sentences(filename):\n",
        "  txt = \"\"\n",
        "\n",
        "  with open(filename,\"r\",encoding=\"utf-8\") as f:\n",
        "    txt = f.read()\n",
        "\n",
        "  txt = txt.replace(\"?\",\".\")\n",
        "  txt = txt.replace(\"!\",\".\")\n",
        "  txt = txt.replace(\"»\",\"\")\n",
        "  txt = txt.replace(\"«\",\"\")\n",
        "  txt = txt.replace(\":\",\"\")\n",
        "  txt = txt.replace(\";\",\"\")\n",
        "  txt = txt.replace(\"...\",\".\")\n",
        "  txt = txt.replace(\"…\",\".\")\n",
        "  txt = txt.replace(\"\\n\",\".\")\n",
        "  txt = txt.replace(\"  \",\" \")\n",
        "  txt = txt.replace(\"“\",\"\")\n",
        "  txt = txt.replace(\"„\",\"\")\n",
        "  txt = txt.replace(\"”\",\"\")\n",
        "\n",
        "  sentences = txt.split(\".\")\n",
        "\n",
        "  for i in range(len(sentences)):\n",
        "    sentences[i] = sentences[i].strip()\n",
        "\n",
        "  sentences = [x for x in sentences if x != \"\"]\n",
        "\n",
        "  return sentences"
      ],
      "execution_count": null,
      "outputs": []
    },
    {
      "cell_type": "markdown",
      "source": [
        "Descargar los txt y colocarlos en una carpeta de colab https://drive.google.com/file/d/1JD2EnUU723c7i73OWiIaV8ovSk0-KWEF/view?usp=sharing"
      ],
      "metadata": {
        "id": "BGgVs4QHyXfe"
      }
    },
    {
      "cell_type": "code",
      "metadata": {
        "id": "GwprqyuFbmfC"
      },
      "source": [
        "spanish = file2sentences(\"espanol.txt\")\n",
        "english = file2sentences(\"ingles.txt\")\n",
        "#german = file2sentences(\"also sprach zarathustra.txt\")"
      ],
      "execution_count": null,
      "outputs": []
    },
    {
      "cell_type": "code",
      "metadata": {
        "id": "xW6OBE1mnNbv",
        "colab": {
          "base_uri": "https://localhost:8080/"
        },
        "outputId": "7450a432-8764-4782-c2c8-b142275d7e86"
      },
      "source": [
        "spanish[100:110]"
      ],
      "execution_count": null,
      "outputs": [
        {
          "output_type": "execute_result",
          "data": {
            "text/plain": [
              "['Ahí',\n",
              " 'tienen el mejor retrato que más tarde logré hacer de él, aunque mi dibujo,',\n",
              " 'ciertamente es menos encantador que el modelo',\n",
              " 'Pero no es mía la culpa',\n",
              " 'Las',\n",
              " 'personas mayores me desanimaron de mi carrera de pintor a la edad de seis años',\n",
              " 'y no había aprendido a dibujar otra cosa que boas cerradas y boas abiertas',\n",
              " '3',\n",
              " 'loeré hacer de A',\n",
              " 'Miré, pues, aquella aparición con los ojos redondos de admiración']"
            ]
          },
          "metadata": {},
          "execution_count": 11
        }
      ]
    },
    {
      "cell_type": "code",
      "metadata": {
        "id": "Qta7gRLpcTcu"
      },
      "source": [
        "X = np.array(spanish + english)\n",
        "y = np.array(['es']*len(spanish) + ['en']*len(english) )"
      ],
      "execution_count": null,
      "outputs": []
    },
    {
      "cell_type": "code",
      "metadata": {
        "id": "jHpku9Y-qWRG",
        "colab": {
          "base_uri": "https://localhost:8080/"
        },
        "outputId": "e6ac37bd-34cf-4a1f-f0fc-8e4e048e8e79"
      },
      "source": [
        "X.shape"
      ],
      "execution_count": null,
      "outputs": [
        {
          "output_type": "execute_result",
          "data": {
            "text/plain": [
              "(4382,)"
            ]
          },
          "metadata": {},
          "execution_count": 13
        }
      ]
    },
    {
      "cell_type": "code",
      "metadata": {
        "id": "S-PdRomXcdLH"
      },
      "source": [
        "df = pd.DataFrame({'sentence':X,'language':y})"
      ],
      "execution_count": null,
      "outputs": []
    },
    {
      "cell_type": "code",
      "metadata": {
        "id": "APrPK428KLJ6",
        "colab": {
          "base_uri": "https://localhost:8080/",
          "height": 677
        },
        "outputId": "3a94af5a-0861-4305-ba78-4cd4edde6cdd"
      },
      "source": [
        "df.sample(20)"
      ],
      "execution_count": null,
      "outputs": [
        {
          "output_type": "execute_result",
          "data": {
            "text/plain": [
              "                                               sentence language\n",
              "3749                                    And that is sad       en\n",
              "178   primera mi avión (no dibujaré mi avión, por tr...       es\n",
              "651   El principito arrancó también con un poco de m...       es\n",
              "76        contento de conocer a un hombre tan razonable       es\n",
              "4170  I could see that he was reviving little by little       en\n",
              "2192                                  At a glance I can       en\n",
              "2198          I have lived a great deal among grown-ups       en\n",
              "4354     And then the little bells are changed to tears       en\n",
              "332               El primero estaba habitado por un rey       es\n",
              "40                                  digiere un elefante       es\n",
              "3499                        these would go off to sleep       en\n",
              "3372                              What is that big book       en\n",
              "924   \"No hay la menor duda de que las personas mayo...       es\n",
              "2353                                  What a queer idea       en\n",
              "1513              -Efectivamente, verás -dijo el zorro-       es\n",
              "3163                        I don’t get enough exercise       en\n",
              "2600                                  extremely serious       en\n",
              "970                                        de callejear       es\n",
              "2906  I order you sometimes to yawn and sometimes to He       en\n",
              "2514                                It spreads over the       en"
            ],
            "text/html": [
              "\n",
              "  <div id=\"df-ecb80ea7-4780-4b8e-8236-d1a77e811548\" class=\"colab-df-container\">\n",
              "    <div>\n",
              "<style scoped>\n",
              "    .dataframe tbody tr th:only-of-type {\n",
              "        vertical-align: middle;\n",
              "    }\n",
              "\n",
              "    .dataframe tbody tr th {\n",
              "        vertical-align: top;\n",
              "    }\n",
              "\n",
              "    .dataframe thead th {\n",
              "        text-align: right;\n",
              "    }\n",
              "</style>\n",
              "<table border=\"1\" class=\"dataframe\">\n",
              "  <thead>\n",
              "    <tr style=\"text-align: right;\">\n",
              "      <th></th>\n",
              "      <th>sentence</th>\n",
              "      <th>language</th>\n",
              "    </tr>\n",
              "  </thead>\n",
              "  <tbody>\n",
              "    <tr>\n",
              "      <th>3749</th>\n",
              "      <td>And that is sad</td>\n",
              "      <td>en</td>\n",
              "    </tr>\n",
              "    <tr>\n",
              "      <th>178</th>\n",
              "      <td>primera mi avión (no dibujaré mi avión, por tr...</td>\n",
              "      <td>es</td>\n",
              "    </tr>\n",
              "    <tr>\n",
              "      <th>651</th>\n",
              "      <td>El principito arrancó también con un poco de m...</td>\n",
              "      <td>es</td>\n",
              "    </tr>\n",
              "    <tr>\n",
              "      <th>76</th>\n",
              "      <td>contento de conocer a un hombre tan razonable</td>\n",
              "      <td>es</td>\n",
              "    </tr>\n",
              "    <tr>\n",
              "      <th>4170</th>\n",
              "      <td>I could see that he was reviving little by little</td>\n",
              "      <td>en</td>\n",
              "    </tr>\n",
              "    <tr>\n",
              "      <th>2192</th>\n",
              "      <td>At a glance I can</td>\n",
              "      <td>en</td>\n",
              "    </tr>\n",
              "    <tr>\n",
              "      <th>2198</th>\n",
              "      <td>I have lived a great deal among grown-ups</td>\n",
              "      <td>en</td>\n",
              "    </tr>\n",
              "    <tr>\n",
              "      <th>4354</th>\n",
              "      <td>And then the little bells are changed to tears</td>\n",
              "      <td>en</td>\n",
              "    </tr>\n",
              "    <tr>\n",
              "      <th>332</th>\n",
              "      <td>El primero estaba habitado por un rey</td>\n",
              "      <td>es</td>\n",
              "    </tr>\n",
              "    <tr>\n",
              "      <th>40</th>\n",
              "      <td>digiere un elefante</td>\n",
              "      <td>es</td>\n",
              "    </tr>\n",
              "    <tr>\n",
              "      <th>3499</th>\n",
              "      <td>these would go off to sleep</td>\n",
              "      <td>en</td>\n",
              "    </tr>\n",
              "    <tr>\n",
              "      <th>3372</th>\n",
              "      <td>What is that big book</td>\n",
              "      <td>en</td>\n",
              "    </tr>\n",
              "    <tr>\n",
              "      <th>924</th>\n",
              "      <td>\"No hay la menor duda de que las personas mayo...</td>\n",
              "      <td>es</td>\n",
              "    </tr>\n",
              "    <tr>\n",
              "      <th>2353</th>\n",
              "      <td>What a queer idea</td>\n",
              "      <td>en</td>\n",
              "    </tr>\n",
              "    <tr>\n",
              "      <th>1513</th>\n",
              "      <td>-Efectivamente, verás -dijo el zorro-</td>\n",
              "      <td>es</td>\n",
              "    </tr>\n",
              "    <tr>\n",
              "      <th>3163</th>\n",
              "      <td>I don’t get enough exercise</td>\n",
              "      <td>en</td>\n",
              "    </tr>\n",
              "    <tr>\n",
              "      <th>2600</th>\n",
              "      <td>extremely serious</td>\n",
              "      <td>en</td>\n",
              "    </tr>\n",
              "    <tr>\n",
              "      <th>970</th>\n",
              "      <td>de callejear</td>\n",
              "      <td>es</td>\n",
              "    </tr>\n",
              "    <tr>\n",
              "      <th>2906</th>\n",
              "      <td>I order you sometimes to yawn and sometimes to He</td>\n",
              "      <td>en</td>\n",
              "    </tr>\n",
              "    <tr>\n",
              "      <th>2514</th>\n",
              "      <td>It spreads over the</td>\n",
              "      <td>en</td>\n",
              "    </tr>\n",
              "  </tbody>\n",
              "</table>\n",
              "</div>\n",
              "    <div class=\"colab-df-buttons\">\n",
              "\n",
              "  <div class=\"colab-df-container\">\n",
              "    <button class=\"colab-df-convert\" onclick=\"convertToInteractive('df-ecb80ea7-4780-4b8e-8236-d1a77e811548')\"\n",
              "            title=\"Convert this dataframe to an interactive table.\"\n",
              "            style=\"display:none;\">\n",
              "\n",
              "  <svg xmlns=\"http://www.w3.org/2000/svg\" height=\"24px\" viewBox=\"0 -960 960 960\">\n",
              "    <path d=\"M120-120v-720h720v720H120Zm60-500h600v-160H180v160Zm220 220h160v-160H400v160Zm0 220h160v-160H400v160ZM180-400h160v-160H180v160Zm440 0h160v-160H620v160ZM180-180h160v-160H180v160Zm440 0h160v-160H620v160Z\"/>\n",
              "  </svg>\n",
              "    </button>\n",
              "\n",
              "  <style>\n",
              "    .colab-df-container {\n",
              "      display:flex;\n",
              "      gap: 12px;\n",
              "    }\n",
              "\n",
              "    .colab-df-convert {\n",
              "      background-color: #E8F0FE;\n",
              "      border: none;\n",
              "      border-radius: 50%;\n",
              "      cursor: pointer;\n",
              "      display: none;\n",
              "      fill: #1967D2;\n",
              "      height: 32px;\n",
              "      padding: 0 0 0 0;\n",
              "      width: 32px;\n",
              "    }\n",
              "\n",
              "    .colab-df-convert:hover {\n",
              "      background-color: #E2EBFA;\n",
              "      box-shadow: 0px 1px 2px rgba(60, 64, 67, 0.3), 0px 1px 3px 1px rgba(60, 64, 67, 0.15);\n",
              "      fill: #174EA6;\n",
              "    }\n",
              "\n",
              "    .colab-df-buttons div {\n",
              "      margin-bottom: 4px;\n",
              "    }\n",
              "\n",
              "    [theme=dark] .colab-df-convert {\n",
              "      background-color: #3B4455;\n",
              "      fill: #D2E3FC;\n",
              "    }\n",
              "\n",
              "    [theme=dark] .colab-df-convert:hover {\n",
              "      background-color: #434B5C;\n",
              "      box-shadow: 0px 1px 3px 1px rgba(0, 0, 0, 0.15);\n",
              "      filter: drop-shadow(0px 1px 2px rgba(0, 0, 0, 0.3));\n",
              "      fill: #FFFFFF;\n",
              "    }\n",
              "  </style>\n",
              "\n",
              "    <script>\n",
              "      const buttonEl =\n",
              "        document.querySelector('#df-ecb80ea7-4780-4b8e-8236-d1a77e811548 button.colab-df-convert');\n",
              "      buttonEl.style.display =\n",
              "        google.colab.kernel.accessAllowed ? 'block' : 'none';\n",
              "\n",
              "      async function convertToInteractive(key) {\n",
              "        const element = document.querySelector('#df-ecb80ea7-4780-4b8e-8236-d1a77e811548');\n",
              "        const dataTable =\n",
              "          await google.colab.kernel.invokeFunction('convertToInteractive',\n",
              "                                                    [key], {});\n",
              "        if (!dataTable) return;\n",
              "\n",
              "        const docLinkHtml = 'Like what you see? Visit the ' +\n",
              "          '<a target=\"_blank\" href=https://colab.research.google.com/notebooks/data_table.ipynb>data table notebook</a>'\n",
              "          + ' to learn more about interactive tables.';\n",
              "        element.innerHTML = '';\n",
              "        dataTable['output_type'] = 'display_data';\n",
              "        await google.colab.output.renderOutput(dataTable, element);\n",
              "        const docLink = document.createElement('div');\n",
              "        docLink.innerHTML = docLinkHtml;\n",
              "        element.appendChild(docLink);\n",
              "      }\n",
              "    </script>\n",
              "  </div>\n",
              "\n",
              "\n",
              "<div id=\"df-6e2e655b-03ef-484e-a9b6-78256068fcac\">\n",
              "  <button class=\"colab-df-quickchart\" onclick=\"quickchart('df-6e2e655b-03ef-484e-a9b6-78256068fcac')\"\n",
              "            title=\"Suggest charts\"\n",
              "            style=\"display:none;\">\n",
              "\n",
              "<svg xmlns=\"http://www.w3.org/2000/svg\" height=\"24px\"viewBox=\"0 0 24 24\"\n",
              "     width=\"24px\">\n",
              "    <g>\n",
              "        <path d=\"M19 3H5c-1.1 0-2 .9-2 2v14c0 1.1.9 2 2 2h14c1.1 0 2-.9 2-2V5c0-1.1-.9-2-2-2zM9 17H7v-7h2v7zm4 0h-2V7h2v10zm4 0h-2v-4h2v4z\"/>\n",
              "    </g>\n",
              "</svg>\n",
              "  </button>\n",
              "\n",
              "<style>\n",
              "  .colab-df-quickchart {\n",
              "      --bg-color: #E8F0FE;\n",
              "      --fill-color: #1967D2;\n",
              "      --hover-bg-color: #E2EBFA;\n",
              "      --hover-fill-color: #174EA6;\n",
              "      --disabled-fill-color: #AAA;\n",
              "      --disabled-bg-color: #DDD;\n",
              "  }\n",
              "\n",
              "  [theme=dark] .colab-df-quickchart {\n",
              "      --bg-color: #3B4455;\n",
              "      --fill-color: #D2E3FC;\n",
              "      --hover-bg-color: #434B5C;\n",
              "      --hover-fill-color: #FFFFFF;\n",
              "      --disabled-bg-color: #3B4455;\n",
              "      --disabled-fill-color: #666;\n",
              "  }\n",
              "\n",
              "  .colab-df-quickchart {\n",
              "    background-color: var(--bg-color);\n",
              "    border: none;\n",
              "    border-radius: 50%;\n",
              "    cursor: pointer;\n",
              "    display: none;\n",
              "    fill: var(--fill-color);\n",
              "    height: 32px;\n",
              "    padding: 0;\n",
              "    width: 32px;\n",
              "  }\n",
              "\n",
              "  .colab-df-quickchart:hover {\n",
              "    background-color: var(--hover-bg-color);\n",
              "    box-shadow: 0 1px 2px rgba(60, 64, 67, 0.3), 0 1px 3px 1px rgba(60, 64, 67, 0.15);\n",
              "    fill: var(--button-hover-fill-color);\n",
              "  }\n",
              "\n",
              "  .colab-df-quickchart-complete:disabled,\n",
              "  .colab-df-quickchart-complete:disabled:hover {\n",
              "    background-color: var(--disabled-bg-color);\n",
              "    fill: var(--disabled-fill-color);\n",
              "    box-shadow: none;\n",
              "  }\n",
              "\n",
              "  .colab-df-spinner {\n",
              "    border: 2px solid var(--fill-color);\n",
              "    border-color: transparent;\n",
              "    border-bottom-color: var(--fill-color);\n",
              "    animation:\n",
              "      spin 1s steps(1) infinite;\n",
              "  }\n",
              "\n",
              "  @keyframes spin {\n",
              "    0% {\n",
              "      border-color: transparent;\n",
              "      border-bottom-color: var(--fill-color);\n",
              "      border-left-color: var(--fill-color);\n",
              "    }\n",
              "    20% {\n",
              "      border-color: transparent;\n",
              "      border-left-color: var(--fill-color);\n",
              "      border-top-color: var(--fill-color);\n",
              "    }\n",
              "    30% {\n",
              "      border-color: transparent;\n",
              "      border-left-color: var(--fill-color);\n",
              "      border-top-color: var(--fill-color);\n",
              "      border-right-color: var(--fill-color);\n",
              "    }\n",
              "    40% {\n",
              "      border-color: transparent;\n",
              "      border-right-color: var(--fill-color);\n",
              "      border-top-color: var(--fill-color);\n",
              "    }\n",
              "    60% {\n",
              "      border-color: transparent;\n",
              "      border-right-color: var(--fill-color);\n",
              "    }\n",
              "    80% {\n",
              "      border-color: transparent;\n",
              "      border-right-color: var(--fill-color);\n",
              "      border-bottom-color: var(--fill-color);\n",
              "    }\n",
              "    90% {\n",
              "      border-color: transparent;\n",
              "      border-bottom-color: var(--fill-color);\n",
              "    }\n",
              "  }\n",
              "</style>\n",
              "\n",
              "  <script>\n",
              "    async function quickchart(key) {\n",
              "      const quickchartButtonEl =\n",
              "        document.querySelector('#' + key + ' button');\n",
              "      quickchartButtonEl.disabled = true;  // To prevent multiple clicks.\n",
              "      quickchartButtonEl.classList.add('colab-df-spinner');\n",
              "      try {\n",
              "        const charts = await google.colab.kernel.invokeFunction(\n",
              "            'suggestCharts', [key], {});\n",
              "      } catch (error) {\n",
              "        console.error('Error during call to suggestCharts:', error);\n",
              "      }\n",
              "      quickchartButtonEl.classList.remove('colab-df-spinner');\n",
              "      quickchartButtonEl.classList.add('colab-df-quickchart-complete');\n",
              "    }\n",
              "    (() => {\n",
              "      let quickchartButtonEl =\n",
              "        document.querySelector('#df-6e2e655b-03ef-484e-a9b6-78256068fcac button');\n",
              "      quickchartButtonEl.style.display =\n",
              "        google.colab.kernel.accessAllowed ? 'block' : 'none';\n",
              "    })();\n",
              "  </script>\n",
              "</div>\n",
              "\n",
              "    </div>\n",
              "  </div>\n"
            ],
            "application/vnd.google.colaboratory.intrinsic+json": {
              "type": "dataframe",
              "summary": "{\n  \"name\": \"df\",\n  \"rows\": 20,\n  \"fields\": [\n    {\n      \"column\": \"sentence\",\n      \"properties\": {\n        \"dtype\": \"string\",\n        \"num_unique_values\": 20,\n        \"samples\": [\n          \"And that is sad\",\n          \"de callejear\",\n          \"I don\\u2019t get enough exercise\"\n        ],\n        \"semantic_type\": \"\",\n        \"description\": \"\"\n      }\n    },\n    {\n      \"column\": \"language\",\n      \"properties\": {\n        \"dtype\": \"category\",\n        \"num_unique_values\": 2,\n        \"samples\": [\n          \"es\",\n          \"en\"\n        ],\n        \"semantic_type\": \"\",\n        \"description\": \"\"\n      }\n    }\n  ]\n}"
            }
          },
          "metadata": {},
          "execution_count": 15
        }
      ]
    },
    {
      "cell_type": "code",
      "metadata": {
        "id": "6853r2oBiIVJ",
        "colab": {
          "base_uri": "https://localhost:8080/",
          "height": 470
        },
        "outputId": "31ab4667-67f6-4c28-8665-07974399cee0"
      },
      "source": [
        "df['language'].value_counts().plot(kind = 'bar')"
      ],
      "execution_count": null,
      "outputs": [
        {
          "output_type": "execute_result",
          "data": {
            "text/plain": [
              "<Axes: xlabel='language'>"
            ]
          },
          "metadata": {},
          "execution_count": 16
        },
        {
          "output_type": "display_data",
          "data": {
            "text/plain": [
              "<Figure size 640x480 with 1 Axes>"
            ],
            "image/png": "[encoded data removed]"
          },
          "metadata": {}
        }
      ]
    },
    {
      "cell_type": "code",
      "metadata": {
        "id": "3enSHyeCdNhX"
      },
      "source": [
        "X_train, X_test, y_train, y_test = train_test_split(X, y, test_size=0.33, random_state=42)"
      ],
      "execution_count": null,
      "outputs": []
    },
    {
      "cell_type": "code",
      "metadata": {
        "id": "ToCMjd9P5cQO",
        "colab": {
          "base_uri": "https://localhost:8080/"
        },
        "outputId": "afe924e7-e073-4add-b102-28b4cae3e98a"
      },
      "source": [
        "cnt = CountVectorizer(analyzer = 'char',ngram_range=(2,2),binary=True)\n",
        "\n",
        "cnt.fit(X_train)\n",
        "\n",
        "len(cnt.get_feature_names_out())"
      ],
      "execution_count": null,
      "outputs": [
        {
          "output_type": "execute_result",
          "data": {
            "text/plain": [
              "814"
            ]
          },
          "metadata": {},
          "execution_count": 18
        }
      ]
    },
    {
      "cell_type": "code",
      "source": [
        "model = LogisticRegression()"
      ],
      "metadata": {
        "id": "_RRL9QG4YgAr"
      },
      "execution_count": null,
      "outputs": []
    },
    {
      "cell_type": "code",
      "metadata": {
        "id": "WEQz7h9e6CsO"
      },
      "source": [
        "model.fit(cnt.transform(X_train),y_train)\n",
        "y_pred = model.predict(cnt.transform(X_test))"
      ],
      "execution_count": null,
      "outputs": []
    },
    {
      "cell_type": "code",
      "metadata": {
        "id": "FxfV7tGK6Hl7",
        "colab": {
          "base_uri": "https://localhost:8080/"
        },
        "outputId": "1c86175f-edcb-41ca-92ea-b4310de12b15"
      },
      "source": [
        "confusion_matrix(y_test,y_pred)"
      ],
      "execution_count": null,
      "outputs": [
        {
          "output_type": "execute_result",
          "data": {
            "text/plain": [
              "array([[674,  30],\n",
              "       [  6, 737]])"
            ]
          },
          "metadata": {},
          "execution_count": 21
        }
      ]
    },
    {
      "cell_type": "code",
      "metadata": {
        "id": "HVcOGZ5G6J8G",
        "colab": {
          "base_uri": "https://localhost:8080/"
        },
        "outputId": "d5a61894-7b72-4e38-ab0c-f20d4e0f965c"
      },
      "source": [
        "print(classification_report(y_test,y_pred))"
      ],
      "execution_count": null,
      "outputs": [
        {
          "output_type": "stream",
          "name": "stdout",
          "text": [
            "              precision    recall  f1-score   support\n",
            "\n",
            "          en       0.99      0.96      0.97       704\n",
            "          es       0.96      0.99      0.98       743\n",
            "\n",
            "    accuracy                           0.98      1447\n",
            "   macro avg       0.98      0.97      0.98      1447\n",
            "weighted avg       0.98      0.98      0.98      1447\n",
            "\n"
          ]
        }
      ]
    },
    {
      "cell_type": "code",
      "source": [
        "model.classes_"
      ],
      "metadata": {
        "colab": {
          "base_uri": "https://localhost:8080/"
        },
        "id": "bDRPkYHWf0Tl",
        "outputId": "220fb267-60e7-440c-c406-f3fedec77d30"
      },
      "execution_count": null,
      "outputs": [
        {
          "output_type": "execute_result",
          "data": {
            "text/plain": [
              "array(['en', 'es'], dtype='<U2')"
            ]
          },
          "metadata": {},
          "execution_count": 23
        }
      ]
    },
    {
      "cell_type": "code",
      "metadata": {
        "id": "1CW2R0mo6OKo"
      },
      "source": [
        "#prueba de español e ingles\n",
        "test = [\n",
        "(\"Hello, how are you?\", 'English sentence'),\n",
        "(\"See you tomorrow\", 'English sentence'),\n",
        "(\"I would like a dish of frijoles or even a good ensalada española\", 'English sentence with Spanish words'),\n",
        "(\"Ensalada or aguacate? I can't choose\" , 'English sentence with many Spanish words'),\n",
        "(\"hola, ¿cómo estás?\", 'Spanish sentence'),\n",
        "('Estamos de weekend', 'Spanish sentence with English word'),\n",
        "('weekend', 'English word'),\n",
        "('remote work', 'English expression'),\n",
        "('universidad', 'Spanish word'),\n",
        "('Que tengas un buen día', 'Spanish sentence'),\n",
        "('bosque', 'Spanish word'),\n",
        "('carro', 'Spanish word'),\n",
        "('Haremos un buen trip al bosque', 'Spanish sentence with English word'),\n",
        "('hyperparameters', 'English word not present in original corpus'),\n",
        "('machine learning', 'English expression not present in original corpus '),\n",
        "('I met Annalisa en Madrid and she told me she wanted una tortilla de patatas', 'English sentence with Spanish words'),\n",
        "('I met Annalisa en Madrid and she told me she wanted una tortilla de patatas', 'English sentence with Spanish words'),\n",
        "('Tengo que reparar mi avioneta', 'Spanish sentence'),\n",
        "('I have to repair my airplane', 'English sentence')\n",
        "        ]"
      ],
      "execution_count": null,
      "outputs": []
    },
    {
      "cell_type": "code",
      "source": [],
      "metadata": {
        "id": "qX9ETHEMZWUN"
      },
      "execution_count": null,
      "outputs": []
    },
    {
      "cell_type": "code",
      "metadata": {
        "id": "-AU0JE9I6OKv"
      },
      "source": [
        "pred = model.predict(cnt.transform([x[0] for x in test]))"
      ],
      "execution_count": null,
      "outputs": []
    },
    {
      "cell_type": "code",
      "metadata": {
        "id": "cQJH5xtx8tFm",
        "colab": {
          "base_uri": "https://localhost:8080/"
        },
        "outputId": "5540abfd-5a1c-4e81-abb0-e9eec31ee443"
      },
      "source": [
        "for i in range(len(test)):\n",
        "  print(\"Sentence: {}\".format(test[i][0]))\n",
        "  print(\"Comment: {}\".format(test[i][1]))\n",
        "  print(\"Predicted language: {}\".format(pred[i]))\n",
        "  print(\"-----------------------\")"
      ],
      "execution_count": null,
      "outputs": [
        {
          "output_type": "stream",
          "name": "stdout",
          "text": [
            "Sentence: Hello, how are you?\n",
            "Comment: English sentence\n",
            "Predicted language: en\n",
            "-----------------------\n",
            "Sentence: See you tomorrow\n",
            "Comment: English sentence\n",
            "Predicted language: en\n",
            "-----------------------\n",
            "Sentence: I would like a dish of frijoles or even a good ensalada española\n",
            "Comment: English sentence with Spanish words\n",
            "Predicted language: en\n",
            "-----------------------\n",
            "Sentence: Ensalada or aguacate? I can't choose\n",
            "Comment: English sentence with many Spanish words\n",
            "Predicted language: en\n",
            "-----------------------\n",
            "Sentence: hola, ¿cómo estás?\n",
            "Comment: Spanish sentence\n",
            "Predicted language: es\n",
            "-----------------------\n",
            "Sentence: Estamos de weekend\n",
            "Comment: Spanish sentence with English word\n",
            "Predicted language: es\n",
            "-----------------------\n",
            "Sentence: weekend\n",
            "Comment: English word\n",
            "Predicted language: en\n",
            "-----------------------\n",
            "Sentence: remote work\n",
            "Comment: English expression\n",
            "Predicted language: es\n",
            "-----------------------\n",
            "Sentence: universidad\n",
            "Comment: Spanish word\n",
            "Predicted language: es\n",
            "-----------------------\n",
            "Sentence: Que tengas un buen día\n",
            "Comment: Spanish sentence\n",
            "Predicted language: es\n",
            "-----------------------\n",
            "Sentence: bosque\n",
            "Comment: Spanish word\n",
            "Predicted language: es\n",
            "-----------------------\n",
            "Sentence: carro\n",
            "Comment: Spanish word\n",
            "Predicted language: es\n",
            "-----------------------\n",
            "Sentence: Haremos un buen trip al bosque\n",
            "Comment: Spanish sentence with English word\n",
            "Predicted language: es\n",
            "-----------------------\n",
            "Sentence: hyperparameters\n",
            "Comment: English word not present in original corpus\n",
            "Predicted language: en\n",
            "-----------------------\n",
            "Sentence: machine learning\n",
            "Comment: English expression not present in original corpus \n",
            "Predicted language: en\n",
            "-----------------------\n",
            "Sentence: I met Annalisa en Madrid and she told me she wanted una tortilla de patatas\n",
            "Comment: English sentence with Spanish words\n",
            "Predicted language: en\n",
            "-----------------------\n",
            "Sentence: I met Annalisa en Madrid and she told me she wanted una tortilla de patatas\n",
            "Comment: English sentence with Spanish words\n",
            "Predicted language: en\n",
            "-----------------------\n",
            "Sentence: Tengo que reparar mi avioneta\n",
            "Comment: Spanish sentence\n",
            "Predicted language: es\n",
            "-----------------------\n",
            "Sentence: I have to repair my airplane\n",
            "Comment: English sentence\n",
            "Predicted language: en\n",
            "-----------------------\n"
          ]
        }
      ]
    },
    {
      "cell_type": "code",
      "source": [
        "import sys\n",
        "sys.setrecursionlimit(10000)"
      ],
      "metadata": {
        "id": "RUMROA64dIFA"
      },
      "execution_count": null,
      "outputs": []
    },
    {
      "cell_type": "markdown",
      "source": [
        "Lo siguiente es para crear una función de javascript que relice la misma función que tenemos en python"
      ],
      "metadata": {
        "id": "zCNeCYImBfOe"
      }
    },
    {
      "cell_type": "code",
      "source": [
        "print(m2c.export_to_javascript(model))"
      ],
      "metadata": {
        "colab": {
          "base_uri": "https://localhost:8080/"
        },
        "id": "HI14eS-Mc9Iy",
        "outputId": "ece9ddfc-ad3c-4f25-85b0-c2ff30fbd7e1"
      },
      "execution_count": null,
      "outputs": [
        {
          "output_type": "stream",
          "name": "stdout",
          "text": [
            "function score(input) {\n",
            "    return 0.38444041701293147 + input[0] * 0.035538183892824295 + input[1] * 0.0019961587085215995 + input[2] * 0.00910774158817722 + input[3] * 0.10235222910514533 + input[4] * -0.012550966959211124 + input[5] * -0.0006965960361810008 + input[6] * -0.00004103071363675993 + input[7] * -0.00003760221809407671 + input[8] * -0.00003760221809407671 + input[9] * 0.25848546692930113 + input[10] * -0.6612354948671242 + input[11] * -0.803467279339991 + input[12] * 0.2716504708108623 + input[13] * 0.12395986567077867 + input[14] * 0.682357582753207 + input[15] * 0.03811096480948209 + input[16] * -0.08881728015471382 + input[17] * 0.06862693015205698 + input[18] * -0.9114504419307701 + input[19] * 0.10359710012369475 + input[20] * -0.09933831222414483 + input[21] * 0.6939053656603922 + input[22] * -0.10496251495653088 + input[23] * -0.07396521075592939 + input[24] * -0.7289786570259446 + input[25] * 0.7011093515913276 + input[26] * 0.20483725127318625 + input[27] * 0.4431182260761684 + input[28] * 0.4001151731140862 + input[29] * -0.8173699746264642 + input[30] * 0.15219573433204991 + input[31] * 0.969478082660446 + input[32] * -0.49973239137429437 + input[33] * 0.34841145875028223 + input[34] * 0.05013028073640513 + input[35] * 0.30929182286391305 + input[36] * 0.08355932085924031 + input[37] * 0.0005411362051675666 + input[38] * 0.08750703792366855 + input[39] * 0.002949232982515315 + input[40] * 0.05288636121418556 + input[41] * -0.00012453064025357368 + input[42] * -0.0064820401915037795 + input[43] * 0.09136202367007203 + input[44] * 0.004945550038010072 + input[45] * 0.013450046787949997 + input[46] * 0.14020370481797872 + input[47] * 0.0017653986722203298 + input[48] * 0.002640212385125318 + input[49] * 0.0004858298654029196 + input[50] * 0.000585184197894971 + input[51] * 0.000604943746781544 + input[52] * 0.002120559570926779 + input[53] * 0.003883104739674917 + input[54] * 0.0019961587085215995 + input[55] * -0.00004318467093973339 + input[56] * -0.00003880575331530123 + input[57] * -0.00003512484819189903 + input[58] * 0.00042116060512807104 + input[59] * 0.008884440172438998 + input[60] * 0.0003404166881851571 + input[61] * -0.00004318467093973339 + input[62] * 0.0014280710445679751 + input[63] * 0.2831998211783754 + input[64] * -0.20346659022265154 + input[65] * -0.00003760221809407671 + input[66] * -0.00007863293173083669 + input[67] * -0.0000490126198190649 + input[68] * 0.46315681437142375 + input[69] * 0.011056088374776106 + input[70] * -0.10920772708729726 + input[71] * 0.03296066589779022 + input[72] * -0.0009088040605947495 + input[73] * 0.019738969704797993 + input[74] * 0.0854405008395292 + input[75] * 0.5126177374985309 + input[76] * -0.000005683455182707505 + input[77] * 0.002260802412124031 + input[78] * 0.30195421810635703 + input[79] * 0.07036459064702895 + input[80] * 0.33764133103796634 + input[81] * 0.27317614636993887 + input[82] * 0.46631946095450666 + input[83] * -0.003008131211693873 + input[84] * 0.2884741947787811 + input[85] * 0.001199728229085624 + input[86] * 0.03605004034918699 + input[87] * 0.7872259735974536 + input[88] * 0.15389478538065318 + input[89] * -0.007535465258988254 + input[90] * 0.054301632627092616 + input[91] * 0.008270307811454429 + input[92] * 1.9882374258533737 + input[93] * 1.2073233041361222 + input[94] * -0.00298100856621718 + input[95] * -0.00003760221809407671 + input[96] * -0.00003760221809407671 + input[97] * 0.020193033387652985 + input[98] * 0.019091440987646424 + input[99] * -0.00003760221809407671 + input[100] * -0.00007863293173083669 + input[101] * -0.10920772708729726 + input[102] * -0.00008826326220597842 + input[103] * 0.01752440918147199 + input[104] * -0.00005613532891513661 + input[105] * -0.002613310004639175 + input[106] * 0.32807811519696883 + input[107] * 0.5663996423567508 + input[108] * 0.32807811519696883 + input[109] * 0.5663996423567508 + input[110] * 0.3256720560906609 + input[111] * 0.5664444547713829 + input[112] * 0.5664444547713829 + input[113] * 0.5664444547713829 + input[114] * 0.5664444547713829 + input[115] * -0.000055314201541817096 + input[116] * 0.0002659103667893162 + input[117] * -0.00003760221809407671 + input[118] * -0.0006589938180869212 + input[119] * 0.0002659103667893162 + input[120] * 0.32807811519696883 + input[121] * 0.32807811519696883 + input[122] * 0.32807811519696883 + input[123] * -0.00008826326220597842 + input[124] * 0.32807811519696883 + input[125] * 0.3280785768631116 + input[126] * 0.3280591963205436 + input[127] * 0.32807811519696883 + input[128] * 0.3280772291624695 + input[129] * 0.32807811519696883 + input[130] * 0.32807811519696883 + input[131] * 0.32807811519696883 + input[132] * 0.0002659103667893162 + input[133] * 0.32808761631699646 + input[134] * 0.34290450794562954 + input[135] * 0.32807811519696883 + input[136] * 0.32807811519696883 + input[137] * 0.32807811519696883 + input[138] * 0.32807811519696883 + input[139] * 0.32807811519696883 + input[140] * 0.0002659103667893162 + input[141] * 0.23658241233084723 + input[142] * -0.00004103071363675993 + input[143] * 0.32807811519696883 + input[144] * 0.00022830814869523986 + input[145] * 0.0002659103667893162 + input[146] * 0.00031699001206012033 + input[147] * 0.029936033233206333 + input[148] * 0.020155431169558903 + input[149] * -0.002613310004639175 + input[150] * -0.000055314201541817096 + input[151] * 0.43698515235818924 + input[152] * 0.2831998211783754 + input[153] * 0.9639706335992845 + input[154] * 0.19017043841106285 + input[155] * 0.2386403847126327 + input[156] * 0.01679247248421577 + input[157] * 0.5117647201251418 + input[158] * 0.2813238028860976 + input[159] * -0.34229582570215566 + input[160] * 0.0005411362051675666 + input[161] * -0.07694319369637277 + input[162] * 0.09298868569223065 + input[163] * -0.7286088324393002 + input[164] * -1.048986570516213 + input[165] * 0.2880562176533387 + input[166] * -0.565522538038108 + input[167] * 0.16363492857540166 + input[168] * -0.05152017610518966 + input[169] * -0.8182406296460233 + input[170] * -0.2819459227197133 + input[171] * -0.4305375634088108 + input[172] * 0.244108704903937 + input[173] * -0.2509300256792701 + input[174] * 0.282856632930052 + input[175] * -1.2249912562514753 + input[176] * -0.13769116681241245 + input[177] * -0.9305102457067322 + input[178] * -0.25428576330942826 + input[179] * 0.00034501379549035796 + input[180] * -0.11000561971424654 + input[181] * 0.49011320318457846 + input[182] * 0.17434821696038746 + input[183] * 0.9204646272758733 + input[184] * 0.1225287975837378 + input[185] * -0.24515677667154429 + input[186] * -0.10920772708729726 + input[187] * 0.17764468367060388 + input[188] * -0.00020904240641289313 + input[189] * 0.10230525899784143 + input[190] * -0.5569723849011864 + input[191] * 0.4746483658800913 + input[192] * -0.04041643641654492 + input[193] * -0.06870367396796426 + input[194] * -0.31775807869872275 + input[195] * 0.7509371621991502 + input[196] * -0.031035842468887284 + input[197] * -0.017814170066349548 + input[198] * -0.5721893335707195 + input[199] * -0.00004316917052216598 + input[200] * -0.5832133297056895 + input[201] * 0.018811714318582567 + input[202] * -0.016539930684154835 + input[203] * -0.000193664746063963 + input[204] * 0.8140388308921906 + input[205] * -0.43018826830829276 + input[206] * -0.47485030611492357 + input[207] * 0.3165096824818433 + input[208] * 1.393538226077421 + input[209] * -0.9602573638060684 + input[210] * -0.8134332143112792 + input[211] * 0.43612521511250274 + input[212] * -0.000044639599681498 + input[213] * -0.23641528358653843 + input[214] * -0.5706117751771649 + input[215] * 0.23775458451099776 + input[216] * -0.004438733513511346 + input[217] * 0.0353439758720214 + input[218] * 0.02739584064911183 + input[219] * 0.15718208224916055 + input[220] * 0.2911606888539912 + input[221] * -0.8878702875948353 + input[222] * -0.17401798290308068 + input[223] * -0.20600633891703532 + input[224] * 1.1173661496046146 + input[225] * -0.032722645358738464 + input[226] * -0.5164355157656266 + input[227] * 0.8076175647735477 + input[228] * -0.007071049463805516 + input[229] * 0.7866360173552415 + input[230] * -0.0017150975729032754 + input[231] * -0.0006259429141823216 + input[232] * -0.36345637212904414 + input[233] * -0.11679891088406011 + input[234] * -0.13062061480778558 + input[235] * 1.1219976451444234 + input[236] * -0.32638062060107303 + input[237] * -0.2047877511104912 + input[238] * 0.3795466468007846 + input[239] * -0.012366889786408423 + input[240] * -0.6259838574080073 + input[241] * 0.33274330342415176 + input[242] * 0.18896173300200197 + input[243] * 0.46950535814872524 + input[244] * 0.21003097831701234 + input[245] * 0.0017266207913513593 + input[246] * -0.5758972712991051 + input[247] * 0.01621080903235407 + input[248] * -0.5579934428994193 + input[249] * 0.14596833504310516 + input[250] * 0.5009314567579172 + input[251] * -0.59498542911112 + input[252] * -1.27359245295966 + input[253] * 0.0778525574398706 + input[254] * 0.1715933753852987 + input[255] * -0.47478944660663863 + input[256] * 0.4342739042343982 + input[257] * 0.746462660110321 + input[258] * -0.12323184568050123 + input[259] * 0.44432662455571587 + input[260] * 0.5266803664233132 + input[261] * 0.486168646883826 + input[262] * 0.6918980611228094 + input[263] * -0.2590161239166291 + input[264] * -0.8791692058942389 + input[265] * 0.01921258428686847 + input[266] * 0.6816258504736875 + input[267] * -0.1672541207153662 + input[268] * 0.9271621103250987 + input[269] * -0.736461804300099 + input[270] * -0.0036405648593661414 + input[271] * -0.33594683949605997 + input[272] * 0.04684173259626909 + input[273] * 0.6712864717366368 + input[274] * 0.0007222302084723975 + input[275] * 0.051042428603327354 + input[276] * 0.19957490383334067 + input[277] * 0.05569146652104387 + input[278] * -0.3864389083660611 + input[279] * -0.7002433519611274 + input[280] * -0.00008371963284979449 + input[281] * -0.00007549104730561636 + input[282] * 0.10690248353528878 + input[283] * -0.1625998860616255 + input[284] * -0.04889195135340538 + input[285] * -0.3494756116010508 + input[286] * -0.47184467538699015 + input[287] * -1.0704532711951384 + input[288] * -0.5079855560189821 + input[289] * -0.00021057123897322313 + input[290] * -0.12597364012372753 + input[291] * 0.25823310423729445 + input[292] * 0.05174079407018305 + input[293] * -0.17954858240884705 + input[294] * -0.14050045053410157 + input[295] * -0.000032405087529843405 + input[296] * 0.6236159487652133 + input[297] * -0.0021108513646933124 + input[298] * -0.4282436219497738 + input[299] * -0.00019741408651099575 + input[300] * -0.6401408959155411 + input[301] * -0.1584122914146011 + input[302] * -0.12606588223189685 + input[303] * 0.0009267583863849494 + input[304] * -0.42464887505110266 + input[305] * 0.32228860057703784 + input[306] * 0.09533020820401789 + input[307] * -0.021472582909998695 + input[308] * 0.4352438176001714 + input[309] * 0.07833528127623297 + input[310] * 0.11739690930374916 + input[311] * 0.0219344094905342 + input[312] * 0.10241780403079864 + input[313] * -0.00006879335697825107 + input[314] * -0.6046333157449508 + input[315] * -0.31762385865481285 + input[316] * -0.4145746358559792 + input[317] * -0.00005107964527080386 + input[318] * -1.8329219062417639 + input[319] * -1.0366812193307613 + input[320] * -0.00039068097778562815 + input[321] * -0.03196794885789313 + input[322] * 0.2544760169848694 + input[323] * -0.2002063724920897 + input[324] * -0.00012075193462011223 + input[325] * -0.0894765026534668 + input[326] * -1.2719724584888732 + input[327] * -0.293437170625165 + input[328] * 0.0002969864912337441 + input[329] * 0.9258219777913215 + input[330] * 0.01745949122108282 + input[331] * -0.9562958347583508 + input[332] * -0.0016694641858628616 + input[333] * 0.5146697240051222 + input[334] * 0.060165796327170645 + input[335] * -0.016281855383092805 + input[336] * -0.01994359154457799 + input[337] * 0.2709090139091183 + input[338] * -0.2557244749705515 + input[339] * -0.0015181631281714764 + input[340] * 0.691131237308415 + input[341] * 0.3979900341404578 + input[342] * -0.3584140982498835 + input[343] * -0.19360380966306703 + input[344] * -0.43794803567424856 + input[345] * -0.38190670340890903 + input[346] * -0.3800047894140674 + input[347] * 0.49166705545963935 + input[348] * 0.013103146662646234 + input[349] * -0.31433178875322637 + input[350] * -0.6447446294975951 + input[351] * -0.6370590758077679 + input[352] * 0.0003159755129925906 + input[353] * 0.477709770428697 + input[354] * -0.0140843231856836 + input[355] * 0.11842175566879722 + input[356] * 0.18649826681803555 + input[357] * 0.08994890752683937 + input[358] * 0.7559205939980114 + input[359] * -0.007011471193712647 + input[360] * 0.5711901836278761 + input[361] * 0.3739303538857253 + input[362] * 0.6273633956999207 + input[363] * -0.02223046180080624 + input[364] * 0.010147093480919174 + input[365] * 0.004292713332639168 + input[366] * 0.0012177143242763759 + input[367] * -0.34908974199304005 + input[368] * -0.05263098508509523 + input[369] * -0.00002937808275673502 + input[370] * -0.940299890550295 + input[371] * -0.20810092589065643 + input[372] * -0.22392562682482842 + input[373] * -0.44597053117507746 + input[374] * -0.1336694613705037 + input[375] * -0.4069706731267152 + input[376] * -0.00034804192294068525 + input[377] * -0.011231252260561136 + input[378] * 0.39937766951627746 + input[379] * 0.00167057399654935 + input[380] * 0.18964514597925766 + input[381] * 0.7121511796286182 + input[382] * 0.172160230090316 + input[383] * -0.5531060895721343 + input[384] * -0.4904674332553283 + input[385] * -0.18851746274867995 + input[386] * 0.1936400069659076 + input[387] * 0.0003404166881851571 + input[388] * -0.75183815420308 + input[389] * -0.00893290280130261 + input[390] * -0.28524211501381186 + input[391] * 0.2714643728384707 + input[392] * -0.00002490972415658302 + input[393] * 0.41462923522632344 + input[394] * 0.010748023284000595 + input[395] * 0.031762588943538235 + input[396] * 0.083414002576405 + input[397] * -0.4630899652347289 + input[398] * -0.3383461470492772 + input[399] * -0.055640469727523074 + input[400] * 0.2891226080512757 + input[401] * -0.02249853845044472 + input[402] * -0.8548792335339674 + input[403] * 0.008593365390352077 + input[404] * 0.02335381853366225 + input[405] * 0.0003673243169106996 + input[406] * 0.12676432034515223 + input[407] * 0.0049112706391642585 + input[408] * 0.0017295541098919201 + input[409] * -0.0008520323538497373 + input[410] * -0.7286276269707523 + input[411] * 0.24393723074810522 + input[412] * 0.12786074964099828 + input[413] * 0.8247034357134565 + input[414] * -0.8031042289152676 + input[415] * -0.005171928364511019 + input[416] * 0.6528954375941329 + input[417] * -0.0000955648268068551 + input[418] * -0.013426740791350528 + input[419] * -0.02309182930118637 + input[420] * 0.4674019042727473 + input[421] * 0.1250522334213902 + input[422] * -0.01835140427251422 + input[423] * -0.04780934546205691 + input[424] * -1.237794943483562 + input[425] * 0.32597231656055353 + input[426] * 0.0003306221392579153 + input[427] * 0.23711465429841572 + input[428] * 0.0467709842180493 + input[429] * 0.009079123358735307 + input[430] * 0.616064519674888 + input[431] * -0.6221577195644488 + input[432] * -0.008482632268030149 + input[433] * 1.3976799244638483 + input[434] * 0.007163944863883832 + input[435] * -0.7209555312573471 + input[436] * -0.49103148707619765 + input[437] * 0.36496407097381617 + input[438] * -0.8768062683424768 + input[439] * -0.25753762392464274 + input[440] * -0.3866916941719428 + input[441] * 0.003598222668585749 + input[442] * -0.0689110926011465 + input[443] * -0.17413263772387924 + input[444] * 0.0045733337571580825 + input[445] * -0.23530227685115546 + input[446] * -0.19907917987772022 + input[447] * 0.0765121682701014 + input[448] * 0.05224591131012409 + input[449] * -0.6605944115101957 + input[450] * 0.2634834962711921 + input[451] * 0.136414458328041 + input[452] * 0.14675509922049787 + input[453] * -0.22731868234110705 + input[454] * 0.185681338654166 + input[455] * 0.0003564719456675403 + input[456] * 0.0017294820175972325 + input[457] * 0.09044218755607406 + input[458] * 0.0335090268561122 + input[459] * 0.003113840262652907 + input[460] * -0.10341804970285441 + input[461] * 0.2366823608406901 + input[462] * 0.10341866774302552 + input[463] * 0.00029723201724542365 + input[464] * 0.43145352418318605 + input[465] * 0.14304141945521792 + input[466] * -0.4582755697017444 + input[467] * -0.2681713073029443 + input[468] * 0.9997282004373137 + input[469] * -0.22302799055643766 + input[470] * -0.3505344314222558 + input[471] * -0.7399847866754479 + input[472] * -0.07775049494707 + input[473] * -1.193544235096425 + input[474] * 0.08181523004853726 + input[475] * 0.0031589643837255485 + input[476] * -0.15602408568059442 + input[477] * 0.3380983362521378 + input[478] * -0.24826604642558048 + input[479] * -0.7803400005914248 + input[480] * -1.514521105788264 + input[481] * -0.2757935558160603 + input[482] * 0.36486930841621135 + input[483] * 0.9308950545965406 + input[484] * -0.32326621428682023 + input[485] * -2.175785384133498 + input[486] * -0.48709696260466206 + input[487] * -1.3990694692128545 + input[488] * -0.0464929457634019 + input[489] * 1.1764872636034676 + input[490] * 0.02951569025420389 + input[491] * 0.11746401778838958 + input[492] * 0.14296587862238438 + input[493] * 0.005267184211810641 + input[494] * -0.00006009531550875007 + input[495] * -0.18048125161017645 + input[496] * -0.0005286542756356227 + input[497] * 0.5931188899348232 + input[498] * -0.26308404826850834 + input[499] * -0.11204473500063447 + input[500] * 0.2228860020445374 + input[501] * -0.3230476108168105 + input[502] * 0.9912908277299777 + input[503] * -0.5646377837919642 + input[504] * 0.44917621228789095 + input[505] * -0.0270766182909452 + input[506] * -0.032089985220886054 + input[507] * 0.3264289416654631 + input[508] * -0.00006702508232492169 + input[509] * -0.32578503398683684 + input[510] * 0.47296706782690895 + input[511] * 0.03587769453673596 + input[512] * 0.000629391275180068 + input[513] * -0.00008436121118651184 + input[514] * 0.6910353520004715 + input[515] * -0.03851401626113083 + input[516] * 0.012928941795877235 + input[517] * 0.05204435134270463 + input[518] * -0.0032971942592638723 + input[519] * 0.7396767003088747 + input[520] * 0.009231852109982588 + input[521] * -0.10909039108347482 + input[522] * -0.24278883287536002 + input[523] * 0.014617292527268014 + input[524] * -0.039879981688338804 + input[525] * 0.05130647028945712 + input[526] * -0.02271695627576016 + input[527] * -0.22328927086885325 + input[528] * -0.013514087716853692 + input[529] * -0.257506068419562 + input[530] * 0.8273038231018126 + input[531] * -0.41632194447688314 + input[532] * 0.8123441404354125 + input[533] * 0.11891975328373973 + input[534] * 0.005308862745113764 + input[535] * 0.06684375960878086 + input[536] * -0.9635653627168456 + input[537] * -0.018695507101778416 + input[538] * -0.3851733181802931 + input[539] * 0.0749653199522722 + input[540] * -0.8415119865853077 + input[541] * 0.0019439037420996984 + input[542] * 0.6621600235585466 + input[543] * 0.4374581527859758 + input[544] * 0.1617790929399342 + input[545] * 0.2581309309380281 + input[546] * -0.000028005590918472622 + input[547] * 0.43588583443164053 + input[548] * 0.0030742377948420234 + input[549] * 0.0010876543563828186 + input[550] * -0.25977202856714304 + input[551] * -0.23103880828280837 + input[552] * 0.1824152814873455 + input[553] * 0.0011549376096372573 + input[554] * 0.48534378557250896 + input[555] * -0.0005422695297001558 + input[556] * -0.40219493125631794 + input[557] * 0.1280305271038692 + input[558] * 0.004939182821480018 + input[559] * -1.1487500896601173 + input[560] * 0.4030213539983903 + input[561] * -0.12998007207827597 + input[562] * -0.19645724457906447 + input[563] * -0.153142223230604 + input[564] * -0.012384644217185669 + input[565] * -0.16233344316081588 + input[566] * 0.02535762344642076 + input[567] * -0.0006282607378736035 + input[568] * -1.030407224220007 + input[569] * -0.16854436266402462 + input[570] * -0.2695105849367051 + input[571] * 0.005925930982577023 + input[572] * -0.010556076613534117 + input[573] * -0.00015129755029458586 + input[574] * 0.18105582721950356 + input[575] * 0.7962888413846132 + input[576] * 0.23301955015744474 + input[577] * 0.10311890118179926 + input[578] * -0.22858712879783177 + input[579] * -2.079629061201249 + input[580] * -0.39685085688660254 + input[581] * 0.21931620631581317 + input[582] * 0.7724002564904474 + input[583] * -0.006427518257829463 + input[584] * 0.8991882326946672 + input[585] * -0.00011906750999997315 + input[586] * -1.8499181664840978 + input[587] * -0.3352413685248645 + input[588] * -0.5746127863141335 + input[589] * -0.00013003474177392896 + input[590] * -0.00047464292404441916 + input[591] * 0.302259963750196 + input[592] * 0.36210077438779453 + input[593] * -0.695270895364876 + input[594] * -0.42792729425323756 + input[595] * 0.28193644956546726 + input[596] * -0.020439219142442733 + input[597] * -0.33750380960490634 + input[598] * 0.17826371553792397 + input[599] * 0.005110707260621317 + input[600] * 0.013684484669597949 + input[601] * 0.2167468459747197 + input[602] * 0.1985159905136721 + input[603] * -0.18587650391241367 + input[604] * -0.013374109478373959 + input[605] * 0.253220371677134 + input[606] * -0.09146304646843555 + input[607] * -0.39505540123343547 + input[608] * 0.39651494511526253 + input[609] * 0.9247832555262169 + input[610] * 0.4486955454187716 + input[611] * -0.48370912192911963 + input[612] * 0.6838089082660174 + input[613] * 0.06492282207886568 + input[614] * -0.3235866445768336 + input[615] * -0.3644882772831627 + input[616] * 0.2561743788129876 + input[617] * 0.0018053691457619165 + input[618] * -0.629408802581889 + input[619] * -0.4939640998681255 + input[620] * -0.3546999838022209 + input[621] * -0.9568373799492516 + input[622] * 0.003676830027278629 + input[623] * 0.32441959802588516 + input[624] * 0.001205579536553986 + input[625] * 0.2730038717272222 + input[626] * 0.2595067914325838 + input[627] * 0.2565846088754152 + input[628] * 0.000260224303947653 + input[629] * 0.14162564975587477 + input[630] * -0.00017572129740130526 + input[631] * 0.3326644915067713 + input[632] * -0.8446578627185959 + input[633] * 0.5147010456205544 + input[634] * 0.4681584310110035 + input[635] * 0.03153011448058353 + input[636] * -0.010242061554965699 + input[637] * 0.0017500325481360395 + input[638] * 0.1275144928073391 + input[639] * 0.0003231367358217876 + input[640] * -0.2679084886864846 + input[641] * -0.002569398719329765 + input[642] * -1.1527304757461925 + input[643] * -0.973843845169808 + input[644] * -1.0588893451947623 + input[645] * -0.3864510051211205 + input[646] * -0.00034804192294068525 + input[647] * -0.00025148953005052114 + input[648] * -0.21901499534760915 + input[649] * -0.486071152175391 + input[650] * -0.16635811669472797 + input[651] * -0.2993292351327897 + input[652] * -0.1640642141233048 + input[653] * -0.0205753102301193 + input[654] * -0.0006486617359134533 + input[655] * -0.0025380664226967694 + input[656] * -0.2973664798249887 + input[657] * -0.13854603949815278 + input[658] * -0.001638453475310877 + input[659] * -0.000003649483010304142 + input[660] * 0.9900704974213298 + input[661] * 0.00034501379549035796 + input[662] * -0.041690286420425486 + input[663] * -0.1654796165354689 + input[664] * 0.21937984324843132 + input[665] * 0.48121133934600874 + input[666] * 0.604435976868762 + input[667] * 0.00029416460428973747 + input[668] * 0.2123844596878974 + input[669] * 0.0004944866012867489 + input[670] * -0.026127627557662694 + input[671] * 0.009750527353696609 + input[672] * 0.4282439427270922 + input[673] * -0.10245305692313161 + input[674] * -1.4522913985191652 + input[675] * -0.0006883318321081446 + input[676] * -0.0000021846452913790145 + input[677] * -0.2403925985110241 + input[678] * -0.563831152043625 + input[679] * -0.00769605621453983 + input[680] * 0.04861618222174218 + input[681] * -0.0300835903729157 + input[682] * 0.017281042295787755 + input[683] * 0.34020465962691465 + input[684] * 0.019830171478576648 + input[685] * 0.23276138763303456 + input[686] * 0.0017554073628687939 + input[687] * -0.018593977921399916 + input[688] * 0.006642425134773632 + input[689] * -0.00543684559821965 + input[690] * 0.03754862896044363 + input[691] * 0.1627288731040037 + input[692] * 0.0028528769850775714 + input[693] * 0.008593365390352077 + input[694] * -0.000734965155885304 + input[695] * -0.00543684559821965 + input[696] * 0.021735816475530478 + input[697] * 0.16826531158997857 + input[698] * 1.128762540774049 + input[699] * 0.48473885453899523 + input[700] * 0.035260840451178097 + input[701] * 0.03878457628799354 + input[702] * 0.1375927033296306 + input[703] * 0.4003995232342877 + input[704] * 0.0055579195623592075 + input[705] * 0.3870370742870658 + input[706] * 0.7069547731189061 + input[707] * 0.13509990616110104 + input[708] * 0.03866142802228993 + input[709] * 0.4782566014361824 + input[710] * 0.025681698602090533 + input[711] * 0.4457659335747065 + input[712] * 0.06561162612942688 + input[713] * 0.1589759392064699 + input[714] * 0.06484065267970365 + input[715] * 0.21394589528581234 + input[716] * 0.30971030730401955 + input[717] * 0.05097181829375067 + input[718] * 0.16784599922863544 + input[719] * 0.000980290003822897 + input[720] * 0.00565365437474345 + input[721] * 0.04575593460848044 + input[722] * 0.0008273739312567325 + input[723] * 0.11136431016159708 + input[724] * 0.0723892527521821 + input[725] * 0.14082140376792215 + input[726] * 0.22695728280063832 + input[727] * 0.07048275184062441 + input[728] * 0.09229280639806538 + input[729] * 0.005546721489795254 + input[730] * 0.2264630558702907 + input[731] * 0.27664468545452386 + input[732] * 0.009652111687443607 + input[733] * 0.004912571683373238 + input[734] * 0.013500420450176367 + input[735] * 0.41219447605635584 + input[736] * 0.030396167977851024 + input[737] * 0.000280736492565996 + input[738] * 0.010850135722758508 + input[739] * 0.6294758789660603 + input[740] * 0.004298808737124514 + input[741] * 0.0003564719456675403 + input[742] * 0.4247747846267631 + input[743] * 0.010486190461436042 + input[744] * 0.017888543932032458 + input[745] * 0.08666013164019225 + input[746] * 0.11333941815958555 + input[747] * 0.05155811721041496 + input[748] * 0.3039493731983075 + input[749] * 0.000666784298946743 + input[750] * 0.4741687129185176 + input[751] * 0.040312858551776645 + input[752] * 0.11772175763334801 + input[753] * 0.4814392168941695 + input[754] * 0.03208739656967863 + input[755] * 0.0004524498898513309 + input[756] * 0.7298133514750286 + input[757] * 0.39695171507269356 + input[758] * 0.1944466741849646 + input[759] * 0.005399155455417064 + input[760] * 0.07210684071003659 + input[761] * 0.008712891564180703 + input[762] * 0.0002620094133084119 + input[763] * 0.019838303563502694 + input[764] * 0.12078828987126648 + input[765] * 0.000815717961375276 + input[766] * 0.06141222438352798 + input[767] * 0.19676774431992428 + input[768] * 0.0002667914117447922 + input[769] * 0.001723676378266834 + input[770] * 0.26848775636126826 + input[771] * 0.000260224303947653 + input[772] * 0.9462822753145765 + input[773] * 0.0002125381807220296 + input[774] * 0.00043431867329461613 + input[775] * 0.7245162874388704 + input[776] * 0.017806498706177346 + input[777] * 0.0009356653887121359 + input[778] * 0.045575856450512243 + input[779] * 0.25359977924815996 + input[780] * 0.24203124278731902 + input[781] * 0.5147687037812182 + input[782] * 0.0018240752249443824 + input[783] * 0.0011251577575709358 + input[784] * 0.21990524022775937 + input[785] * 0.0009004153292129799 + input[786] * 0.01905382885768962 + input[787] * 0.18190796312142177 + input[788] * 0.17556884600854583 + input[789] * 0.00040435897595699453 + input[790] * 0.10311890118179926 + input[791] * 0.00027726570509950895 + input[792] * 0.0014522884047924124 + input[793] * 0.008042069144371602 + input[794] * 0.002209929569122013 + input[795] * 0.16753156380832626 + input[796] * 0.0012177143242763759 + input[797] * 0.000629391275180068 + input[798] * 0.009079123358735307 + input[799] * 0.0407054465571619 + input[800] * 0.10241780403079864 + input[801] * -0.00012453064025357368 + input[802] * -0.38472059118488855 + input[803] * -0.0008520323538497373 + input[804] * -0.00006404095426721145 + input[805] * -0.23019306004547116 + input[806] * -0.00011400322222292821 + input[807] * -0.0038207103730364808 + input[808] * -0.0002995476363623287 + input[809] * -0.00006009531550875007 + input[810] * -0.00013891225841049197 + input[811] * -0.0005078774709414602 + input[812] * -0.10317839628404142 + input[813] * -0.000036809038990813595;\n",
            "}\n",
            "\n"
          ]
        }
      ]
    },
    {
      "cell_type": "markdown",
      "source": [
        "Lo siguiente serán digramas, colocarlo en una lista de javascript"
      ],
      "metadata": {
        "id": "KGtmCF-GBXyj"
      }
    },
    {
      "cell_type": "code",
      "source": [
        "cnt.get_feature_names_out()"
      ],
      "metadata": {
        "colab": {
          "base_uri": "https://localhost:8080/"
        },
        "id": "VDg5dt2qdp2q",
        "outputId": "a19e5c40-7369-451c-eb45-203fc2733545"
      },
      "execution_count": null,
      "outputs": [
        {
          "output_type": "execute_result",
          "data": {
            "text/plain": [
              "array([' \"', \" '\", ' (', ' -', ' 1', ' 3', ' 4', ' 7', ' 9', ' \\\\', ' a',\n",
              "       ' b', ' c', ' d', ' e', ' f', ' g', ' h', ' i', ' j', ' k', ' l',\n",
              "       ' m', ' n', ' o', ' p', ' q', ' r', ' s', ' t', ' u', ' v', ' w',\n",
              "       ' y', ' z', ' ¡', ' ¿', ' á', ' é', ' ó', ' ú', ' —', ' ‘', '\" ',\n",
              "       '\",', '\"d', '\"e', '\"h', '\"l', '\"m', '\"n', '\"s', '\"¡', '\"¿', \"'i\",\n",
              "       '(a', '(f', '(i', '(p', '(s', '(y', ') ', '),', '*w', ', ', ',0',\n",
              "       ',5', ',’', '- ', '-,', '-6', '-a', '-b', '-c', '-d', '-e', '-f',\n",
              "       '-g', '-h', '-i', '-l', '-m', '-n', '-o', '-p', '-q', '-r', '-s',\n",
              "       '-t', '-u', '-v', '-y', '-¡', '-¿', '0 ', '0,', '00', '09', '1\"',\n",
              "       '1,', '11', '12', '14', '19', '2,', '20', '21', '22', '23', '24',\n",
              "       '25', '26', '27', '28', '29', '3,', '30', '31', '32', '33', '34',\n",
              "       '37', '39', '40', '42', '43', '44', '45', '46', '47', '48', '49',\n",
              "       '5,', '50', '51', '52', '56', '57', '58', '59', '6,', '61', '62',\n",
              "       '63', '7,', '8,', '9 ', '9,', '90', '92', '94', '\\\\ ', '\\\\*', 'a ',\n",
              "       'a\"', 'a,', 'a-', 'ab', 'ac', 'ad', 'ae', 'af', 'ag', 'ah', 'ai',\n",
              "       'aj', 'ak', 'al', 'am', 'an', 'ao', 'ap', 'aq', 'ar', 'as', 'at',\n",
              "       'au', 'av', 'aw', 'ax', 'ay', 'az', 'aí', 'añ', 'aú', 'b ', 'b-',\n",
              "       'ba', 'bb', 'bd', 'be', 'bi', 'bj', 'bl', 'bo', 'br', 'bs', 'bt',\n",
              "       'bu', 'bv', 'by', 'bí', 'c ', 'c,', 'ca', 'cc', 'ce', 'ch', 'ci',\n",
              "       'ck', 'cl', 'co', 'cq', 'cr', 'ct', 'cu', 'cy', 'cá', 'cé', 'cí',\n",
              "       'có', 'd ', 'd,', 'd-', 'da', 'db', 'dd', 'de', 'dg', 'di', 'dj',\n",
              "       'dk', 'dl', 'dm', 'dn', 'do', 'dr', 'ds', 'du', 'dv', 'dy', 'dé',\n",
              "       'dí', 'dó', 'e ', 'e\"', 'e,', 'e-', 'ea', 'eb', 'ec', 'ed', 'ee',\n",
              "       'ef', 'eg', 'eh', 'ei', 'ej', 'ek', 'el', 'em', 'en', 'eo', 'ep',\n",
              "       'eq', 'er', 'es', 'et', 'eu', 'ev', 'ew', 'ex', 'ey', 'ez', 'eá',\n",
              "       'eí', 'eñ', 'eó', 'e’', 'f ', 'f,', 'f-', 'fa', 'fe', 'ff', 'fi',\n",
              "       'fl', 'fo', 'fr', 'fs', 'ft', 'fu', 'fí', 'g ', 'g,', 'g-', 'ga',\n",
              "       'gd', 'ge', 'gg', 'gh', 'gi', 'gl', 'gm', 'gn', 'go', 'gr', 'gs',\n",
              "       'gu', 'gí', 'gó', 'gú', 'gü', 'g’', 'h ', 'h,', 'ha', 'hb', 'he',\n",
              "       'hi', 'hl', 'hm', 'ho', 'hr', 'hs', 'ht', 'hu', 'hy', 'hé', 'hí',\n",
              "       'hó', 'i ', 'i,', 'ia', 'ib', 'ic', 'id', 'ie', 'if', 'ig', 'ii',\n",
              "       'ij', 'ik', 'il', 'im', 'in', 'io', 'ip', 'iq', 'ir', 'is', 'it',\n",
              "       'iu', 'iv', 'ix', 'iz', 'ié', 'iñ', 'ió', 'j ', 'ja', 'je', 'jo',\n",
              "       'ju', 'jé', 'jó', 'jú', 'k ', 'k,', 'kd', 'ke', 'ki', 'kl', 'kn',\n",
              "       'ks', 'kt', 'kw', 'ky', 'l ', 'l\"', 'l,', 'la', 'lc', 'ld', 'le',\n",
              "       'lf', 'lg', 'lh', 'li', 'lk', 'll', 'lm', 'ln', 'lo', 'lp', 'lq',\n",
              "       'lr', 'ls', 'lt', 'lu', 'lv', 'lw', 'ly', 'lz', 'lá', 'lé', 'lí',\n",
              "       'ló', 'lú', 'l’', 'm ', 'm,', 'ma', 'mb', 'me', 'mf', 'mi', 'ml',\n",
              "       'mm', 'mn', 'mo', 'mp', 'ms', 'mu', 'my', 'má', 'mé', 'mí', 'mó',\n",
              "       'mú', 'n ', 'n,', 'n-', 'na', 'nc', 'nd', 'ne', 'nf', 'ng', 'nh',\n",
              "       'ni', 'nj', 'nk', 'nl', 'nm', 'nn', 'no', 'nq', 'nr', 'ns', 'nt',\n",
              "       'nu', 'nv', 'ny', 'nz', 'ná', 'né', 'ní', 'nó', 'nú', 'n’', 'o ',\n",
              "       'o\"', 'o)', 'o,', 'o-', 'oa', 'ob', 'oc', 'od', 'oe', 'of', 'og',\n",
              "       'oh', 'oi', 'oj', 'ok', 'ol', 'om', 'on', 'oo', 'op', 'or', 'os',\n",
              "       'ot', 'ou', 'ov', 'ow', 'ox', 'oy', 'oz', 'oé', 'oí', 'oñ', 'o’',\n",
              "       'p ', 'p,', 'pa', 'pe', 'ph', 'pi', 'pl', 'po', 'pp', 'pr', 'ps',\n",
              "       'pt', 'pu', 'pw', 'py', 'pé', 'pí', 'pú', 'p’', 'qu', 'r ', 'r\"',\n",
              "       'r,', 'r-', 'ra', 'rb', 'rc', 'rd', 're', 'rf', 'rg', 'rh', 'ri',\n",
              "       'rk', 'rl', 'rm', 'rn', 'ro', 'rp', 'rq', 'rr', 'rs', 'rt', 'ru',\n",
              "       'rv', 'ry', 'rz', 'rá', 'ré', 'rí', 'ró', 'r’', 's ', 's\"', 's)',\n",
              "       's,', 's-', 'sa', 'sb', 'sc', 'sd', 'se', 'sf', 'sg', 'sh', 'si',\n",
              "       'sk', 'sl', 'sm', 'sn', 'so', 'sp', 'sq', 'ss', 'st', 'su', 'sv',\n",
              "       'sw', 'sy', 'sé', 'sí', 'só', 'sú', 's’', 't ', 't,', 't-', 'ta',\n",
              "       'tc', 'te', 'tf', 'th', 'ti', 'tl', 'tm', 'tn', 'to', 'tr', 'ts',\n",
              "       'tt', 'tu', 'tw', 'ty', 'tá', 'té', 'tí', 'tó', 'tú', 'u ', 'u,',\n",
              "       'ua', 'ub', 'uc', 'ud', 'ue', 'uf', 'ug', 'ui', 'uj', 'ul', 'um',\n",
              "       'un', 'uo', 'up', 'ur', 'us', 'ut', 'uv', 'uy', 'uz', 'uá', 'ué',\n",
              "       'uí', 'uñ', 'uó', 'u’', 'va', 've', 'vi', 'vo', 'vu', 'vy', 'vá',\n",
              "       'ví', 'vó', 'w ', 'w,', 'wa', 'we', 'wh', 'wi', 'wk', 'wl', 'wn',\n",
              "       'wo', 'wp', 'wr', 'ws', 'x ', 'x,', 'x-', 'xa', 'xc', 'xe', 'xh',\n",
              "       'xi', 'xn', 'xp', 'xt', 'xu', 'xv', 'xx', 'xí', 'y ', 'y\"', 'y,',\n",
              "       'y-', 'ya', 'yb', 'ye', 'yi', 'yl', 'yo', 'ys', 'yt', 'yu', 'yw',\n",
              "       'yó', 'z ', 'z,', 'za', 'zc', 'ze', 'zg', 'zl', 'zm', 'zo', 'zq',\n",
              "       'zu', 'zy', 'zz', 'zá', 'zó', '¡a', '¡b', '¡c', '¡d', '¡e', '¡h',\n",
              "       '¡l', '¡n', '¡o', '¡p', '¡q', '¡s', '¡t', '¡u', '¡v', '¡y', '¿ ',\n",
              "       '¿a', '¿c', '¿d', '¿e', '¿h', '¿l', '¿m', '¿n', '¿o', '¿p', '¿q',\n",
              "       '¿s', '¿t', '¿u', '¿v', '¿y', 'á ', 'ág', 'ál', 'ám', 'án', 'áp',\n",
              "       'áq', 'ár', 'ás', 'át', 'áu', 'é ', 'é,', 'éa', 'éi', 'éj', 'él',\n",
              "       'én', 'ép', 'ér', 'és', 'ét', 'í ', 'í,', 'í-', 'ía', 'íb', 'íc',\n",
              "       'íd', 'íe', 'íf', 'íl', 'ím', 'ín', 'ío', 'íq', 'ír', 'ís', 'ít',\n",
              "       'ña', 'ñe', 'ño', 'ñu', 'ñé', 'ó ', 'ó,', 'ó-', 'óg', 'ól', 'óm',\n",
              "       'ón', 'óp', 'ór', 'ós', 'ót', 'óv', 'óx', 'ú ', 'ú,', 'úb', 'úc',\n",
              "       'úg', 'úl', 'úm', 'ún', 'úp', 'úr', 'ús', 'út', 'üe', '— ', '‘a',\n",
              "       '‘e', '‘s', '‘t', '‘w', '‘y', '’ ', '’c', '’r', '’s', '’t', '’v'],\n",
              "      dtype=object)"
            ]
          },
          "metadata": {},
          "execution_count": 29
        }
      ]
    },
    {
      "cell_type": "code",
      "source": [],
      "metadata": {
        "id": "xhsDSY9avFPp"
      },
      "execution_count": null,
      "outputs": []
    }
  ]
}